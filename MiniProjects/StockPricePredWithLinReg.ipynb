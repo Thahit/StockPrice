{
 "cells": [
  {
   "cell_type": "markdown",
   "metadata": {},
   "source": [
    "# StockPricePredWithLinReg\n",
    "Testing how good a simple model like a linear Regression can perform to predict stock prices. I will try to predict next days close price. The stock that is being analyzed is The Walt Disney Company.\n",
    "\n",
    "# Imports"
   ]
  },
  {
   "cell_type": "code",
   "execution_count": 1,
   "metadata": {},
   "outputs": [
    {
     "name": "stdout",
     "output_type": "stream",
     "text": [
      "imports complete.\n"
     ]
    }
   ],
   "source": [
    "import numpy as np\n",
    "import pandas as pd\n",
    "import matplotlib.pyplot as plt\n",
    "import seaborn as sns\n",
    "\n",
    "import pandas_datareader as web\n",
    "\n",
    "from sklearn import preprocessing\n",
    "from sklearn.pipeline import make_pipeline\n",
    "from sklearn.preprocessing import StandardScaler\n",
    "from sklearn.model_selection import train_test_split\n",
    "from sklearn.linear_model import LinearRegression\n",
    "\n",
    "print(\"imports complete.\")"
   ]
  },
  {
   "cell_type": "markdown",
   "metadata": {},
   "source": [
    "# Data"
   ]
  },
  {
   "cell_type": "code",
   "execution_count": 2,
   "metadata": {},
   "outputs": [
    {
     "data": {
      "text/html": [
       "<div>\n",
       "<style scoped>\n",
       "    .dataframe tbody tr th:only-of-type {\n",
       "        vertical-align: middle;\n",
       "    }\n",
       "\n",
       "    .dataframe tbody tr th {\n",
       "        vertical-align: top;\n",
       "    }\n",
       "\n",
       "    .dataframe thead th {\n",
       "        text-align: right;\n",
       "    }\n",
       "</style>\n",
       "<table border=\"1\" class=\"dataframe\">\n",
       "  <thead>\n",
       "    <tr style=\"text-align: right;\">\n",
       "      <th></th>\n",
       "      <th>High</th>\n",
       "      <th>Low</th>\n",
       "      <th>Open</th>\n",
       "      <th>Close</th>\n",
       "      <th>Volume</th>\n",
       "      <th>Adj Close</th>\n",
       "      <th>closeNext</th>\n",
       "    </tr>\n",
       "    <tr>\n",
       "      <th>Date</th>\n",
       "      <th></th>\n",
       "      <th></th>\n",
       "      <th></th>\n",
       "      <th></th>\n",
       "      <th></th>\n",
       "      <th></th>\n",
       "      <th></th>\n",
       "    </tr>\n",
       "  </thead>\n",
       "  <tbody>\n",
       "    <tr>\n",
       "      <th>2010-01-04</th>\n",
       "      <td>32.750000</td>\n",
       "      <td>31.870001</td>\n",
       "      <td>32.50</td>\n",
       "      <td>32.070000</td>\n",
       "      <td>13700400.0</td>\n",
       "      <td>27.933924</td>\n",
       "      <td>31.990000</td>\n",
       "    </tr>\n",
       "    <tr>\n",
       "      <th>2010-01-05</th>\n",
       "      <td>32.160000</td>\n",
       "      <td>31.700001</td>\n",
       "      <td>32.07</td>\n",
       "      <td>31.990000</td>\n",
       "      <td>10307700.0</td>\n",
       "      <td>27.864237</td>\n",
       "      <td>31.820000</td>\n",
       "    </tr>\n",
       "    <tr>\n",
       "      <th>2010-01-06</th>\n",
       "      <td>32.000000</td>\n",
       "      <td>31.680000</td>\n",
       "      <td>31.90</td>\n",
       "      <td>31.820000</td>\n",
       "      <td>10709500.0</td>\n",
       "      <td>27.716166</td>\n",
       "      <td>31.830000</td>\n",
       "    </tr>\n",
       "    <tr>\n",
       "      <th>2010-01-07</th>\n",
       "      <td>31.860001</td>\n",
       "      <td>31.540001</td>\n",
       "      <td>31.77</td>\n",
       "      <td>31.830000</td>\n",
       "      <td>8202100.0</td>\n",
       "      <td>27.724878</td>\n",
       "      <td>31.879999</td>\n",
       "    </tr>\n",
       "    <tr>\n",
       "      <th>2010-01-08</th>\n",
       "      <td>31.940001</td>\n",
       "      <td>31.530001</td>\n",
       "      <td>31.66</td>\n",
       "      <td>31.879999</td>\n",
       "      <td>7657500.0</td>\n",
       "      <td>27.768419</td>\n",
       "      <td>31.360001</td>\n",
       "    </tr>\n",
       "  </tbody>\n",
       "</table>\n",
       "</div>"
      ],
      "text/plain": [
       "                 High        Low   Open      Close      Volume  Adj Close  \\\n",
       "Date                                                                        \n",
       "2010-01-04  32.750000  31.870001  32.50  32.070000  13700400.0  27.933924   \n",
       "2010-01-05  32.160000  31.700001  32.07  31.990000  10307700.0  27.864237   \n",
       "2010-01-06  32.000000  31.680000  31.90  31.820000  10709500.0  27.716166   \n",
       "2010-01-07  31.860001  31.540001  31.77  31.830000   8202100.0  27.724878   \n",
       "2010-01-08  31.940001  31.530001  31.66  31.879999   7657500.0  27.768419   \n",
       "\n",
       "            closeNext  \n",
       "Date                   \n",
       "2010-01-04  31.990000  \n",
       "2010-01-05  31.820000  \n",
       "2010-01-06  31.830000  \n",
       "2010-01-07  31.879999  \n",
       "2010-01-08  31.360001  "
      ]
     },
     "execution_count": 2,
     "metadata": {},
     "output_type": "execute_result"
    }
   ],
   "source": [
    "dfDis=web.DataReader(\"DIS\", data_source=\"yahoo\", start=\"2010-01-01\", end = \"2021-1-23\")# read data\n",
    "\n",
    "dfDis[\"closeNext\"]=dfDis.Close.shift(periods=-1) # create feature we want to predict\n",
    "dfDis.drop(dfDis.tail(1).index, inplace=True)# remove last row because we don't know the next Close\n",
    "\n",
    "dfDis.head()"
   ]
  },
  {
   "cell_type": "code",
   "execution_count": 3,
   "metadata": {},
   "outputs": [
    {
     "data": {
      "text/plain": [
       "<AxesSubplot:>"
      ]
     },
     "execution_count": 3,
     "metadata": {},
     "output_type": "execute_result"
    },
    {
     "data": {
      "image/png": "[encoded data removed]",
      "text/plain": [
       "<Figure size 576x576 with 2 Axes>"
      ]
     },
     "metadata": {
      "needs_background": "light"
     },
     "output_type": "display_data"
    }
   ],
   "source": [
    "# to show these features are usefull for predicting the next close price\n",
    "f, ax = plt.subplots(figsize=(8, 8))\n",
    "\n",
    "# fill the duplicates with white\n",
    "mask = np.triu(np.ones_like(dfDis.corr(), dtype=bool))\n",
    "\n",
    "# Draw the heatmap with the mask and correct aspect ratio\n",
    "sns.heatmap(dfDis.corr(), mask=mask, square=True, linewidths=.5)"
   ]
  },
  {
   "cell_type": "markdown",
   "metadata": {},
   "source": [
    "Volume seems to be a bad feature, so I will remove it"
   ]
  },
  {
   "cell_type": "code",
   "execution_count": 4,
   "metadata": {},
   "outputs": [
    {
     "data": {
      "text/html": [
       "<div>\n",
       "<style scoped>\n",
       "    .dataframe tbody tr th:only-of-type {\n",
       "        vertical-align: middle;\n",
       "    }\n",
       "\n",
       "    .dataframe tbody tr th {\n",
       "        vertical-align: top;\n",
       "    }\n",
       "\n",
       "    .dataframe thead th {\n",
       "        text-align: right;\n",
       "    }\n",
       "</style>\n",
       "<table border=\"1\" class=\"dataframe\">\n",
       "  <thead>\n",
       "    <tr style=\"text-align: right;\">\n",
       "      <th></th>\n",
       "      <th>High</th>\n",
       "      <th>Low</th>\n",
       "      <th>Open</th>\n",
       "      <th>Close</th>\n",
       "      <th>Adj Close</th>\n",
       "      <th>closeNext</th>\n",
       "    </tr>\n",
       "    <tr>\n",
       "      <th>Date</th>\n",
       "      <th></th>\n",
       "      <th></th>\n",
       "      <th></th>\n",
       "      <th></th>\n",
       "      <th></th>\n",
       "      <th></th>\n",
       "    </tr>\n",
       "  </thead>\n",
       "  <tbody>\n",
       "    <tr>\n",
       "      <th>2021-01-14</th>\n",
       "      <td>178.350006</td>\n",
       "      <td>173.399994</td>\n",
       "      <td>177.009995</td>\n",
       "      <td>173.429993</td>\n",
       "      <td>173.429993</td>\n",
       "      <td>171.440002</td>\n",
       "    </tr>\n",
       "    <tr>\n",
       "      <th>2021-01-15</th>\n",
       "      <td>174.190002</td>\n",
       "      <td>170.169998</td>\n",
       "      <td>172.949997</td>\n",
       "      <td>171.440002</td>\n",
       "      <td>171.440002</td>\n",
       "      <td>172.259995</td>\n",
       "    </tr>\n",
       "    <tr>\n",
       "      <th>2021-01-19</th>\n",
       "      <td>173.710007</td>\n",
       "      <td>171.440002</td>\n",
       "      <td>172.100006</td>\n",
       "      <td>172.259995</td>\n",
       "      <td>172.259995</td>\n",
       "      <td>173.639999</td>\n",
       "    </tr>\n",
       "    <tr>\n",
       "      <th>2021-01-20</th>\n",
       "      <td>177.880005</td>\n",
       "      <td>173.000000</td>\n",
       "      <td>175.220001</td>\n",
       "      <td>173.639999</td>\n",
       "      <td>173.639999</td>\n",
       "      <td>171.279999</td>\n",
       "    </tr>\n",
       "    <tr>\n",
       "      <th>2021-01-21</th>\n",
       "      <td>175.000000</td>\n",
       "      <td>171.020004</td>\n",
       "      <td>173.240005</td>\n",
       "      <td>171.279999</td>\n",
       "      <td>171.279999</td>\n",
       "      <td>172.779999</td>\n",
       "    </tr>\n",
       "  </tbody>\n",
       "</table>\n",
       "</div>"
      ],
      "text/plain": [
       "                  High         Low        Open       Close   Adj Close  \\\n",
       "Date                                                                     \n",
       "2021-01-14  178.350006  173.399994  177.009995  173.429993  173.429993   \n",
       "2021-01-15  174.190002  170.169998  172.949997  171.440002  171.440002   \n",
       "2021-01-19  173.710007  171.440002  172.100006  172.259995  172.259995   \n",
       "2021-01-20  177.880005  173.000000  175.220001  173.639999  173.639999   \n",
       "2021-01-21  175.000000  171.020004  173.240005  171.279999  171.279999   \n",
       "\n",
       "             closeNext  \n",
       "Date                    \n",
       "2021-01-14  171.440002  \n",
       "2021-01-15  172.259995  \n",
       "2021-01-19  173.639999  \n",
       "2021-01-20  171.279999  \n",
       "2021-01-21  172.779999  "
      ]
     },
     "execution_count": 4,
     "metadata": {},
     "output_type": "execute_result"
    }
   ],
   "source": [
    "dfDis.drop(\"Volume\", axis=1, inplace=True)\n",
    "dfDis.tail()"
   ]
  },
  {
   "cell_type": "markdown",
   "metadata": {},
   "source": [
    "Test train split"
   ]
  },
  {
   "cell_type": "code",
   "execution_count": 5,
   "metadata": {},
   "outputs": [],
   "source": [
    "Y = dfDis.pop(\"closeNext\")"
   ]
  },
  {
   "cell_type": "code",
   "execution_count": 6,
   "metadata": {},
   "outputs": [
    {
     "name": "stdout",
     "output_type": "stream",
     "text": [
      "XTrain:                    High         Low        Open       Close   Adj Close\n",
      "Date                                                                  \n",
      "2017-08-02  109.879997  107.519997  109.879997  108.669998  104.838745\n",
      "2019-09-17  136.729996  135.669998  135.800003  136.309998  135.498199\n",
      "2011-10-14   34.529999   33.910000   34.020000   34.470001   30.352797\n",
      "2015-03-30  106.949997  106.050003  106.059998  106.120003   98.905266\n",
      "2020-04-28  110.059998  105.980003  108.790001  106.209999  106.209999\n",
      "XTest:                    High         Low        Open       Close   Adj Close\n",
      "Date                                                                  \n",
      "2017-03-06  110.980003  110.089996  110.769997  110.669998  105.979836\n",
      "2018-08-08  116.410004  113.900002  115.900002  113.980003  111.737129\n",
      "2015-10-15  108.000000  106.260002  106.500000  107.889999  101.139755\n",
      "2015-11-18  118.279999  116.050003  116.220001  118.139999  110.748451\n",
      "2019-06-06  137.440002  135.729996  136.509995  137.210007  135.553391\n",
      "YTrain:  Date\n",
      "2017-08-02    109.120003\n",
      "2019-09-17    136.800003\n",
      "2011-10-14     33.389999\n",
      "2015-03-30    104.889999\n",
      "2020-04-28    112.250000\n",
      "Name: closeNext, dtype: float64\n",
      "YTest:  Date\n",
      "2017-03-06    110.860001\n",
      "2018-08-08    114.160004\n",
      "2015-10-15    108.239998\n",
      "2015-11-18    118.709999\n",
      "2019-06-06    138.039993\n",
      "Name: closeNext, dtype: float64\n"
     ]
    }
   ],
   "source": [
    "test_size=.15\n",
    "XTrain, XTest, YTrain, YTest = train_test_split(dfDis, Y, test_size=test_size, random_state=42) #cross validation\n",
    "print(\"XTrain: \", XTrain.head())\n",
    "print(\"XTest: \", XTest.head())\n",
    "print(\"YTrain: \", YTrain.head())\n",
    "print(\"YTest: \", YTest.head())\n"
   ]
  },
  {
   "cell_type": "markdown",
   "metadata": {},
   "source": [
    "# Linear Regression Pipeline"
   ]
  },
  {
   "cell_type": "code",
   "execution_count": 7,
   "metadata": {},
   "outputs": [
    {
     "data": {
      "text/plain": [
       "Pipeline(steps=[('standardscaler', StandardScaler()),\n",
       "                ('linearregression', LinearRegression())])"
      ]
     },
     "execution_count": 7,
     "metadata": {},
     "output_type": "execute_result"
    }
   ],
   "source": [
    "pipe = make_pipeline(StandardScaler(), LinearRegression())\n",
    "pipe.fit(XTrain, YTrain)"
   ]
  },
  {
   "cell_type": "code",
   "execution_count": 16,
   "metadata": {},
   "outputs": [
    {
     "ename": "TypeError",
     "evalue": "score() got an unexpected keyword argument 'scoring'",
     "output_type": "error",
     "traceback": [
      "\u001b[1;31m---------------------------------------------------------------------------\u001b[0m",
      "\u001b[1;31mTypeError\u001b[0m                                 Traceback (most recent call last)",
      "\u001b[1;32m<ipython-input-16-492857ec2171>\u001b[0m in \u001b[0;36m<module>\u001b[1;34m\u001b[0m\n\u001b[1;32m----> 1\u001b[1;33m \u001b[0mpipe\u001b[0m\u001b[1;33m.\u001b[0m\u001b[0mscore\u001b[0m\u001b[1;33m(\u001b[0m\u001b[0mXTest\u001b[0m\u001b[1;33m,\u001b[0m \u001b[0mYTest\u001b[0m\u001b[1;33m,\u001b[0m \u001b[0mscoring\u001b[0m\u001b[1;33m=\u001b[0m\u001b[1;34m'neg_mean_absolute_error'\u001b[0m\u001b[1;33m)\u001b[0m\u001b[1;33m\u001b[0m\u001b[1;33m\u001b[0m\u001b[0m\n\u001b[0m",
      "\u001b[1;32m~\\Anaconda3\\envs\\TensorFlow\\lib\\site-packages\\sklearn\\utils\\metaestimators.py\u001b[0m in \u001b[0;36m<lambda>\u001b[1;34m(*args, **kwargs)\u001b[0m\n\u001b[0;32m    117\u001b[0m \u001b[1;33m\u001b[0m\u001b[0m\n\u001b[0;32m    118\u001b[0m         \u001b[1;31m# lambda, but not partial, allows help() to work with update_wrapper\u001b[0m\u001b[1;33m\u001b[0m\u001b[1;33m\u001b[0m\u001b[1;33m\u001b[0m\u001b[0m\n\u001b[1;32m--> 119\u001b[1;33m         \u001b[0mout\u001b[0m \u001b[1;33m=\u001b[0m \u001b[1;32mlambda\u001b[0m \u001b[1;33m*\u001b[0m\u001b[0margs\u001b[0m\u001b[1;33m,\u001b[0m \u001b[1;33m**\u001b[0m\u001b[0mkwargs\u001b[0m\u001b[1;33m:\u001b[0m \u001b[0mself\u001b[0m\u001b[1;33m.\u001b[0m\u001b[0mfn\u001b[0m\u001b[1;33m(\u001b[0m\u001b[0mobj\u001b[0m\u001b[1;33m,\u001b[0m \u001b[1;33m*\u001b[0m\u001b[0margs\u001b[0m\u001b[1;33m,\u001b[0m \u001b[1;33m**\u001b[0m\u001b[0mkwargs\u001b[0m\u001b[1;33m)\u001b[0m\u001b[1;33m\u001b[0m\u001b[1;33m\u001b[0m\u001b[0m\n\u001b[0m\u001b[0;32m    120\u001b[0m         \u001b[1;31m# update the docstring of the returned function\u001b[0m\u001b[1;33m\u001b[0m\u001b[1;33m\u001b[0m\u001b[1;33m\u001b[0m\u001b[0m\n\u001b[0;32m    121\u001b[0m         \u001b[0mupdate_wrapper\u001b[0m\u001b[1;33m(\u001b[0m\u001b[0mout\u001b[0m\u001b[1;33m,\u001b[0m \u001b[0mself\u001b[0m\u001b[1;33m.\u001b[0m\u001b[0mfn\u001b[0m\u001b[1;33m)\u001b[0m\u001b[1;33m\u001b[0m\u001b[1;33m\u001b[0m\u001b[0m\n",
      "\u001b[1;31mTypeError\u001b[0m: score() got an unexpected keyword argument 'scoring'"
     ]
    }
   ],
   "source": [
    "pipe.score(XTest, YTest)"
   ]
  },
  {
   "cell_type": "code",
   "execution_count": 15,
   "metadata": {},
   "outputs": [],
   "source": [
    "predictions=pipe.predict(XTest)"
   ]
  },
  {
   "cell_type": "code",
   "execution_count": 12,
   "metadata": {},
   "outputs": [
    {
     "data": {
      "image/png": "[encoded data removed]",
      "text/plain": [
       "<Figure size 432x288 with 1 Axes>"
      ]
     },
     "metadata": {
      "needs_background": "light"
     },
     "output_type": "display_data"
    }
   ],
   "source": [
    "import matplotlib.pyplot as plt\n",
    "plt.plot(YTest)\n",
    "plt.plot(predictions)\n",
    "plt.ylabel('some numbers')\n",
    "plt.show()"
   ]
  },
  {
   "cell_type": "code",
   "execution_count": null,
   "metadata": {},
   "outputs": [],
   "source": []
  },
  {
   "cell_type": "code",
   "execution_count": null,
   "metadata": {},
   "outputs": [],
   "source": []
  },
  {
   "cell_type": "code",
   "execution_count": null,
   "metadata": {},
   "outputs": [],
   "source": []
  }
 ],
 "metadata": {
  "kernelspec": {
   "display_name": "Python 3",
   "language": "python",
   "name": "python3"
  },
  "language_info": {
   "codemirror_mode": {
    "name": "ipython",
    "version": 3
   },
   "file_extension": ".py",
   "mimetype": "text/x-python",
   "name": "python",
   "nbconvert_exporter": "python",
   "pygments_lexer": "ipython3",
   "version": "3.7.9"
  }
 },
 "nbformat": 4,
 "nbformat_minor": 4
}
